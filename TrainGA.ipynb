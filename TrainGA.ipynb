{
 "cells": [
  {
   "cell_type": "code",
   "execution_count": null,
   "metadata": {},
   "outputs": [],
   "source": [
    "#Imports\n",
    "import GA\n",
    "import numpy as np\n",
    "import gym"
   ]
  },
  {
   "cell_type": "code",
   "execution_count": null,
   "metadata": {},
   "outputs": [],
   "source": [
    "popSize = 50\n",
    "nGenes = 702\n",
    "init_mu = 0\n",
    "init_sigma = 0.1\n",
    "\n",
    "mutateProb = 1/nGenes\n",
    "creepRate = 0.01\n",
    "crossoverProb = 1/popSize\n",
    "pTour = 0.75\n",
    "tourSize = 2\n",
    "elitism = 1\n",
    "\n",
    "nGens = 50\n",
    "\n",
    "cartPoleGA = GA.GeneticAlgorithm(populationSize=popSize, nGenes=nGenes, mu=init_mu, sigma=init_sigma)\n",
    "env = gym.make('CartPole-v0')\n",
    "\n",
    "fitnessHist = np.zeros(nGens)\n",
    "for genIdx in range(nGens):\n",
    "    cartPoleGA.nextGeneration(mutateProb=mutateProb, creepRate=creepRate, crossoverProb=crossoverProb, \n",
    "                          pTour=pTour, tourSize=tourSize, nrElitism=elitism, gymEnv = env, visualize=False)\n",
    "    fitnessHist[genIdx] = cartPoleGA.getMaxFitness()\n",
    "    fittest_ind = cartPoleGA.getFittesetIndividual()\n",
    "    \n",
    "    print(\"Fitness in gen {} is {}\".format(genIdx, fitnessHist[genIdx]))\n",
    "\n",
    "env.close()"
   ]
  }
 ],
 "metadata": {
  "kernelspec": {
   "display_name": "Python 3",
   "language": "python",
   "name": "python3"
  },
  "language_info": {
   "codemirror_mode": {
    "name": "ipython",
    "version": 3
   },
   "file_extension": ".py",
   "mimetype": "text/x-python",
   "name": "python",
   "nbconvert_exporter": "python",
   "pygments_lexer": "ipython3",
   "version": "3.7.4"
  }
 },
 "nbformat": 4,
 "nbformat_minor": 2
}
